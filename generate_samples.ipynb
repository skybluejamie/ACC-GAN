{
 "metadata": {
  "language_info": {
   "codemirror_mode": {
    "name": "ipython",
    "version": 3
   },
   "file_extension": ".py",
   "mimetype": "text/x-python",
   "name": "python",
   "nbconvert_exporter": "python",
   "pygments_lexer": "ipython3",
   "version": "3.7.7"
  },
  "orig_nbformat": 2,
  "kernelspec": {
   "name": "python377jvsc74a57bd0dff2b3d0e27433afebda511b4307730ad56db0ccbb8f9fe7ac38fceb3358aeaf",
   "display_name": "Python 3.7.7 64-bit ('py37_tensorflow': conda)"
  }
 },
 "nbformat": 4,
 "nbformat_minor": 2,
 "cells": [
  {
   "source": [
    "## Notebook to generate accelerometer samples using the GAN framework in this package"
   ],
   "cell_type": "markdown",
   "metadata": {}
  },
  {
   "cell_type": "code",
   "execution_count": 2,
   "metadata": {},
   "outputs": [],
   "source": [
    "from utils.data_utils import DataLoader"
   ]
  },
  {
   "cell_type": "code",
   "execution_count": 4,
   "metadata": {},
   "outputs": [],
   "source": [
    "args = {\n",
    "    \"training_file\": \"../../data/herbivores/cleaned_data/original_sheep.csv\",\n",
    "    \"features\": [\"X\", \"Y\", \"Z\", \"Mag_x\", \"Mag_y\", \"Mag_z\"],\n",
    "    \"rescale\": False,\n",
    "    \"num_steps\": 40,\n",
    "    \"train_split\": 0.8,\n",
    "    \"batch_size\": 100,\n",
    "    \"labels\": ['Eating','Eating.up','Scratch','Fast.walk','Walk','Vigilance.down','Vigilance','Search','Resting']\n",
    "}\n",
    "\n",
    "data_loader = DataLoader(args=args)"
   ]
  },
  {
   "cell_type": "code",
   "execution_count": 5,
   "metadata": {
    "tags": []
   },
   "outputs": [],
   "source": [
    "data = data_loader.load_training_data()\n",
    "\n"
   ]
  },
  {
   "cell_type": "code",
   "execution_count": 6,
   "metadata": {},
   "outputs": [],
   "source": [
    "X, Y = data"
   ]
  },
  {
   "cell_type": "code",
   "execution_count": 10,
   "metadata": {},
   "outputs": [],
   "source": [
    "batch = data_loader.get_training_batch()"
   ]
  },
  {
   "cell_type": "code",
   "execution_count": 11,
   "metadata": {},
   "outputs": [
    {
     "output_type": "execute_result",
     "data": {
      "text/plain": [
       "(100, 40, 6)"
      ]
     },
     "metadata": {},
     "execution_count": 11
    }
   ],
   "source": [
    "batch.shape"
   ]
  },
  {
   "cell_type": "code",
   "execution_count": 31,
   "metadata": {},
   "outputs": [],
   "source": [
    "import numpy as np\n",
    "blob = np.random.random_sample((100, 50, 6)) "
   ]
  },
  {
   "cell_type": "code",
   "execution_count": 33,
   "metadata": {},
   "outputs": [
    {
     "output_type": "execute_result",
     "data": {
      "text/plain": [
       "array([[[ 0.41797493,  0.87126904,  0.7770283 ,  0.95030321,\n",
       "          0.60098781,  0.12686254],\n",
       "        [ 0.8009474 ,  0.8801704 ,  0.12318767,  0.7760497 ,\n",
       "          0.76297968,  0.32511827],\n",
       "        [ 0.41390405,  0.26175034,  0.31296677,  0.32744526,\n",
       "          0.02100229,  0.3529398 ],\n",
       "        ...,\n",
       "        [ 0.88205097,  0.88788296,  1.12516593,  1.18826409,\n",
       "          0.58928122,  1.10181946],\n",
       "        [ 0.59366368,  0.84225658,  0.72347944,  0.27872481,\n",
       "          1.09538911,  0.81889892],\n",
       "        [ 0.56986358,  0.46957234,  0.37644727,  0.41447314,\n",
       "          0.16441874,  0.90701034]],\n",
       "\n",
       "       [[ 0.33642686,  0.94270915,  0.02034612,  0.38299183,\n",
       "          0.46345312,  0.10729307],\n",
       "        [ 0.51860637, -0.04922871, -0.06562963,  0.20782236,\n",
       "          0.09026874,  0.23073039],\n",
       "        [ 0.04102109,  0.7429831 ,  0.24417714,  0.70037911,\n",
       "          0.11844803,  0.24257473],\n",
       "        ...,\n",
       "        [ 0.99399977,  1.00555075,  0.32462142,  0.50557016,\n",
       "          0.76123037,  1.22193008],\n",
       "        [ 0.95385003,  0.83222055,  0.33810853,  0.96150998,\n",
       "          0.40431686,  0.51604101],\n",
       "        [ 0.4650944 ,  0.05482539,  0.84733732,  0.00923701,\n",
       "          0.0505163 ,  0.74786278]],\n",
       "\n",
       "       [[ 0.93431712,  0.19287288,  0.49336998,  0.52527525,\n",
       "          0.91258578,  0.77910617],\n",
       "        [ 0.23183938, -0.00401224,  0.65914501,  0.83116632,\n",
       "          0.00471809, -0.09860432],\n",
       "        [ 0.57427707, -0.04814514,  0.39062284,  0.32742706,\n",
       "          0.55165671,  0.36157723],\n",
       "        ...,\n",
       "        [ 0.86116302,  0.62348983,  1.02139123,  0.50680799,\n",
       "          0.4384644 ,  0.95752046],\n",
       "        [ 0.39819791,  0.14038517,  0.60872925,  1.01327107,\n",
       "          0.36229123,  0.66481131],\n",
       "        [ 0.70608448,  0.70889704,  0.10277727,  0.5426812 ,\n",
       "          0.51244709,  0.35074756]],\n",
       "\n",
       "       ...,\n",
       "\n",
       "       [[ 0.54169071,  0.71872225,  0.22844355,  0.39243564,\n",
       "          0.98368705,  0.17380239],\n",
       "        [ 0.72386329, -0.10327905,  0.31843491,  0.01740157,\n",
       "          0.14439089,  0.63441263],\n",
       "        [ 0.72879476, -0.01575757,  0.10446124,  0.01255932,\n",
       "          0.46684408,  0.32858138],\n",
       "        ...,\n",
       "        [ 1.00796295,  1.0735381 ,  0.28026239,  0.88106554,\n",
       "          0.50714895,  0.45551754],\n",
       "        [ 0.36015738,  1.00082384,  0.54706611,  1.05738159,\n",
       "          1.02795895,  0.38689402],\n",
       "        [ 0.48402754,  0.06613393,  0.97576456,  0.54456457,\n",
       "          0.5503752 ,  0.17364347]],\n",
       "\n",
       "       [[ 0.06583949,  0.56016358,  0.10197938,  0.46241266,\n",
       "          0.59253196,  0.2566705 ],\n",
       "        [ 0.46365987,  0.0470434 ,  0.70054587,  0.40465363,\n",
       "          0.64745449,  0.56849562],\n",
       "        [ 0.68396561,  0.60782721,  0.64800742, -0.22821011,\n",
       "          0.53773208,  0.32052426],\n",
       "        ...,\n",
       "        [ 0.76991376,  1.06589473,  0.45193454,  0.68329013,\n",
       "          0.82907642,  0.37643785],\n",
       "        [ 0.68621666,  0.46690336,  0.93663355,  0.92468663,\n",
       "          0.80675352,  0.81799065],\n",
       "        [ 0.51216589,  0.60365323,  0.73303174,  0.46842799,\n",
       "          0.36990401,  0.21040174]],\n",
       "\n",
       "       [[ 0.16693431,  0.05127562,  0.04456179,  0.49588345,\n",
       "          0.48660763,  0.55775161],\n",
       "        [ 0.86038292,  0.79155764,  0.17076192,  0.36047813,\n",
       "         -0.06709919,  0.78238944],\n",
       "        [ 0.07278829, -0.01745437, -0.0656887 ,  0.6774477 ,\n",
       "          0.35729735,  0.44915928],\n",
       "        ...,\n",
       "        [ 1.22819857,  0.25245716,  1.0327291 ,  0.68578404,\n",
       "          0.57167291,  0.41259264],\n",
       "        [ 0.97709315,  0.40554992,  0.65647978,  0.92121467,\n",
       "          0.5095847 ,  1.02914805],\n",
       "        [ 0.97713219,  0.21132702,  0.7829073 ,  0.79940377,\n",
       "          0.74740254,  0.1947929 ]]])"
      ]
     },
     "metadata": {},
     "execution_count": 33
    }
   ],
   "source": [
    "x = 0.9 * np.sin(np.linspace(-np.pi, np.pi, 50))\n",
    "blob + x.reshape(50, 1)"
   ]
  },
  {
   "cell_type": "code",
   "execution_count": 19,
   "metadata": {},
   "outputs": [
    {
     "output_type": "error",
     "ename": "TypeError",
     "evalue": "'tuple' object cannot be interpreted as an integer",
     "traceback": [
      "\u001b[0;31m---------------------------------------------------------------------------\u001b[0m",
      "\u001b[0;31mTypeError\u001b[0m                                 Traceback (most recent call last)",
      "\u001b[0;32m<ipython-input-19-545a0ebf215c>\u001b[0m in \u001b[0;36m<module>\u001b[0;34m\u001b[0m\n\u001b[0;32m----> 1\u001b[0;31m \u001b[0mnp\u001b[0m\u001b[0;34m.\u001b[0m\u001b[0mlinspace\u001b[0m\u001b[0;34m(\u001b[0m\u001b[0;34m(\u001b[0m\u001b[0;36m1\u001b[0m\u001b[0;34m,\u001b[0m\u001b[0;36m2\u001b[0m\u001b[0;34m,\u001b[0m\u001b[0;36m4\u001b[0m\u001b[0;34m)\u001b[0m\u001b[0;34m,\u001b[0m\u001b[0;34m(\u001b[0m\u001b[0;36m1\u001b[0m\u001b[0;34m,\u001b[0m\u001b[0;36m2\u001b[0m\u001b[0;34m,\u001b[0m\u001b[0;36m4\u001b[0m\u001b[0;34m)\u001b[0m\u001b[0;34m,\u001b[0m\u001b[0;34m(\u001b[0m\u001b[0;36m10\u001b[0m\u001b[0;34m,\u001b[0m\u001b[0;36m20\u001b[0m\u001b[0;34m,\u001b[0m\u001b[0;36m50\u001b[0m\u001b[0;34m)\u001b[0m\u001b[0;34m,\u001b[0m \u001b[0;36m4\u001b[0m\u001b[0;34m)\u001b[0m\u001b[0;34m.\u001b[0m\u001b[0mshape\u001b[0m\u001b[0;34m\u001b[0m\u001b[0;34m\u001b[0m\u001b[0m\n\u001b[0m",
      "\u001b[0;32m<__array_function__ internals>\u001b[0m in \u001b[0;36mlinspace\u001b[0;34m(*args, **kwargs)\u001b[0m\n",
      "\u001b[0;32m~/.local/lib/python3.7/site-packages/numpy/core/function_base.py\u001b[0m in \u001b[0;36mlinspace\u001b[0;34m(start, stop, num, endpoint, retstep, dtype, axis)\u001b[0m\n\u001b[1;32m    111\u001b[0m \u001b[0;34m\u001b[0m\u001b[0m\n\u001b[1;32m    112\u001b[0m     \"\"\"\n\u001b[0;32m--> 113\u001b[0;31m     \u001b[0mnum\u001b[0m \u001b[0;34m=\u001b[0m \u001b[0moperator\u001b[0m\u001b[0;34m.\u001b[0m\u001b[0mindex\u001b[0m\u001b[0;34m(\u001b[0m\u001b[0mnum\u001b[0m\u001b[0;34m)\u001b[0m\u001b[0;34m\u001b[0m\u001b[0;34m\u001b[0m\u001b[0m\n\u001b[0m\u001b[1;32m    114\u001b[0m     \u001b[0;32mif\u001b[0m \u001b[0mnum\u001b[0m \u001b[0;34m<\u001b[0m \u001b[0;36m0\u001b[0m\u001b[0;34m:\u001b[0m\u001b[0;34m\u001b[0m\u001b[0;34m\u001b[0m\u001b[0m\n\u001b[1;32m    115\u001b[0m         \u001b[0;32mraise\u001b[0m \u001b[0mValueError\u001b[0m\u001b[0;34m(\u001b[0m\u001b[0;34m\"Number of samples, %s, must be non-negative.\"\u001b[0m \u001b[0;34m%\u001b[0m \u001b[0mnum\u001b[0m\u001b[0;34m)\u001b[0m\u001b[0;34m\u001b[0m\u001b[0;34m\u001b[0m\u001b[0m\n",
      "\u001b[0;31mTypeError\u001b[0m: 'tuple' object cannot be interpreted as an integer"
     ]
    }
   ],
   "source": [
    "np.linspace((1,2,4),(1,2,4),(10,20,50), 4).shape"
   ]
  },
  {
   "cell_type": "code",
   "execution_count": 12,
   "metadata": {},
   "outputs": [
    {
     "output_type": "execute_result",
     "data": {
      "text/plain": [
       "(50,)"
      ]
     },
     "metadata": {},
     "execution_count": 12
    }
   ],
   "source": [
    "x.shape"
   ]
  }
 ]
}